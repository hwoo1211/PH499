{
 "cells": [
  {
   "cell_type": "markdown",
   "metadata": {},
   "source": [
    "# Gathering Merger Trees of the Most Massive Galaxies"
   ]
  },
  {
   "cell_type": "markdown",
   "metadata": {},
   "source": [
    "In this document, we'll navigate the IllustrisTNG Project Database to identify the most massive galaxies in the TNG100-1 simulation and obtain Merger Trees.\n",
    "\n",
    "As shown in the document **Data Structure of IllustrisTNG Database**, the .png file of the merger tree is available. Let's navigate there. \n",
    "\n",
    "First, load all the required packages and important data:"
   ]
  },
  {
   "cell_type": "code",
   "execution_count": 2,
   "metadata": {},
   "outputs": [],
   "source": [
    "import requests                 # To use the helper function \"get\"\n",
    "import h5py                     # To read .hdf5 files in Python\n",
    "import matplotlib.pyplot as mpl # To plot using the data from .hdf5 fiels\n",
    "from skimage import io          # To work with images\n",
    "import numpy as np              # To calculate big numerical data\n",
    "import cv2                      # To create the video\n",
    "import os                       # To navigate working directories\n",
    "\n",
    "baseUrl = 'http://www.tng-project.org/api/'               # URL to the API Root\n",
    "headers = {\"api-key\":\"your_key_here\"}                     # API Key required to access the database\n",
    "                                                          # Make sure to change this!"
   ]
  },
  {
   "cell_type": "markdown",
   "metadata": {},
   "source": [
    "We also need the helper function we used in the other document to naviage the API:"
   ]
  },
  {
   "cell_type": "code",
   "execution_count": 3,
   "metadata": {},
   "outputs": [],
   "source": [
    "def get(path, params=None): # This is provided by the IllustrisTNG Project\n",
    "    # make HTTP GET request to path\n",
    "    r = requests.get(path, params=params, headers=headers)\n",
    "\n",
    "    # raise exception if response code is not HTTP SUCCESS (200)\n",
    "    r.raise_for_status()\n",
    "\n",
    "    if r.headers['content-type'] == 'application/json':\n",
    "        return r.json() # parse json responses automatically\n",
    "\n",
    "    if 'content-disposition' in r.headers:\n",
    "        filename = r.headers['content-disposition'].split(\"filename=\")[1]\n",
    "        with open(filename, 'wb') as f:\n",
    "            f.write(r.content)\n",
    "        return filename # return the filename string\n",
    "\n",
    "    return r"
   ]
  },
  {
   "cell_type": "markdown",
   "metadata": {},
   "source": [
    "Since all the details on the navigation and data structure are already explained in the other document, we'll navigate straight to our point of interest, *Subhalo List* page at $z=0$."
   ]
  },
  {
   "cell_type": "code",
   "execution_count": 6,
   "metadata": {},
   "outputs": [],
   "source": [
    "root = get(baseUrl)                                   # Getting to API Root\n",
    "names = [sim['name'] for sim in root['simulations']]  # Creating list of simulations\n",
    "i = names.index('TNG100-1')                           # Finding where 'TNG100-1' is stored in the list\n",
    "sim = get(root['simulations'][i]['url'])              # Navigating to Simulation Details page\n",
    "snaps = get(sim['snapshots'])                         # Navigating to Snapshot List page\n",
    "snap = get(snaps[-1]['url'])                          # Naviagting to Snapshot Details page for z=0\n",
    "subs = get(snap['subhalos'],                          \n",
    "           {'limit':20, 'order_by':'-mass_stars'})    # Navigating to Subhalo List page for z=0,\n",
    "                                                      #     ordered in decreasing mass. "
   ]
  },
  {
   "cell_type": "markdown",
   "metadata": {},
   "source": [
    "Let's get top 5 listing of subhalos, in order of decreasing mass."
   ]
  },
  {
   "cell_type": "code",
   "execution_count": 11,
   "metadata": {},
   "outputs": [
    {
     "data": {
      "text/plain": [
       "[0, 31342, 17185, 69507, 83280]"
      ]
     },
     "execution_count": 11,
     "metadata": {},
     "output_type": "execute_result"
    }
   ],
   "source": [
    "ids = [subs['results'][i]['id'] for i in range(5) ]\n",
    "ids"
   ]
  },
  {
   "cell_type": "markdown",
   "metadata": {},
   "source": [
    "To make the organization easier, let's create a directory for these subhalo IDs."
   ]
  },
  {
   "cell_type": "code",
   "execution_count": 13,
   "metadata": {},
   "outputs": [],
   "source": [
    "parent_dir = '/Users/hwoo1211/Jupyter Notebook/IllustrisTNG Project/Merger Trees'\n",
    "for id in ids:\n",
    "    path = os.path.join(parent_dir, str(id))\n",
    "    os.mkdir(path)"
   ]
  },
  {
   "cell_type": "markdown",
   "metadata": {},
   "source": [
    "Then, change the working directory to the first folder:"
   ]
  },
  {
   "cell_type": "code",
   "execution_count": 21,
   "metadata": {},
   "outputs": [
    {
     "data": {
      "text/plain": [
       "'/Users/hwoo1211/Jupyter Notebook/IllustrisTNG Project/Merger Trees/0'"
      ]
     },
     "execution_count": 21,
     "metadata": {},
     "output_type": "execute_result"
    }
   ],
   "source": [
    "img_dir = parent_dir + '/' + str(ids[0])\n",
    "os.chdir(img_dir)\n",
    "os.getcwd()"
   ]
  },
  {
   "cell_type": "markdown",
   "metadata": {},
   "source": [
    "Now let's get the details on this specific subhalo and grab the simple SubLink Tree data:"
   ]
  },
  {
   "cell_type": "code",
   "execution_count": 16,
   "metadata": {},
   "outputs": [
    {
     "data": {
      "text/plain": [
       "99"
      ]
     },
     "execution_count": 16,
     "metadata": {},
     "output_type": "execute_result"
    }
   ],
   "source": [
    "sub = get(subs['results'][0]['url'])\n",
    "simple = get(sub['trees']['sublink_simple'])\n",
    "len(simple['Main'])"
   ]
  },
  {
   "cell_type": "markdown",
   "metadata": {},
   "source": [
    "From here, we can sort the tree data *simple* by increasing snapshot number:"
   ]
  },
  {
   "cell_type": "code",
   "execution_count": 17,
   "metadata": {},
   "outputs": [
    {
     "data": {
      "text/plain": [
       "99"
      ]
     },
     "execution_count": 17,
     "metadata": {},
     "output_type": "execute_result"
    }
   ],
   "source": [
    "sortSimple = sorted(simple['Main'])\n",
    "len(sortSimple)"
   ]
  },
  {
   "cell_type": "markdown",
   "metadata": {},
   "source": [
    "Fetch the .png pictures of the Merge Tree (This will take a long time, since it's obtaining the *len(sortSimple)* amount of sublink trees):"
   ]
  },
  {
   "cell_type": "code",
   "execution_count": 19,
   "metadata": {},
   "outputs": [],
   "source": [
    "images = []\n",
    "\n",
    "for i in range(len(simple['Main'])):\n",
    "    url = 'https://www.tng-project.org/api/TNG100-1/snapshots/'+ str(sortSimple[i][0])+'/subhalos/' + str(sortSimple[i][1])+ '/'\n",
    "    subhalo = get(url)\n",
    "    image = get(subhalo['vis']['mergertree_sublink'])\n",
    "    images.append(image)"
   ]
  },
  {
   "cell_type": "markdown",
   "metadata": {},
   "source": [
    "And create the video:"
   ]
  },
  {
   "cell_type": "code",
   "execution_count": 22,
   "metadata": {},
   "outputs": [],
   "source": [
    "imgs = [img for img in os.listdir(img_dir) if img.endswith(\".png\")]\n",
    "frame = cv2.imread(os.path.join(img_dir, images[0]))\n",
    "height, width, layers = frame.shape\n",
    "\n",
    "video = cv2.VideoWriter('video.avi', 0, 1, (width,height))\n",
    "\n",
    "for image in images:\n",
    "    video.write(cv2.imread(os.path.join(img_dir, image)))\n",
    "\n",
    "cv2.destroyAllWindows()\n",
    "video.release()"
   ]
  },
  {
   "cell_type": "markdown",
   "metadata": {},
   "source": [
    "And repeat the process for other 4 massive galaxies we found earlier. \n",
    "\n",
    "This process could be automated, but its execution time will be very long. But here is the code that should work in theory:"
   ]
  },
  {
   "cell_type": "code",
   "execution_count": null,
   "metadata": {},
   "outputs": [],
   "source": [
    "for i in range(5):\n",
    "    img_dir = parent_dir + '/' + str(ids[i])\n",
    "    os.chdir(img_dir)                             # Change the working directory to the next folder\n",
    "    sub = get(subs['results'][i]['url'])          # Get to Subhalo Details page\n",
    "    simple = get(sub['trees']['sublink_simple'])  # Obtain Simple Sublink Tree data\n",
    "    sortSimple = sorted(simple['Main'])           # Sort the simple tree data in increasing key value\n",
    "    \n",
    "    images = []\n",
    "    # Get .png file\n",
    "    for j in range(len(simple['Main'])):\n",
    "        # Obtain URL that directs to the .png file\n",
    "        url = 'https://www.tng-project.org/api/TNG100-1/snapshots/'+ str(sortSimple[j][0])+'/subhalos/' + str(sortSimple[j][1])+ '/'\n",
    "        subhalo = get(url)\n",
    "        image = get(subhalo['vis']['mergertree_sublink'])\n",
    "        images.append(image)\n",
    "        \n",
    "        \n",
    "    # Create Video file\n",
    "    imgs = [img for img in os.listdir(img_dir) if img.endswith(\".png\")]\n",
    "    frame = cv2.imread(os.path.join(img_dir, images[0]))\n",
    "    height, width, layers = frame.shape\n",
    "\n",
    "    video = cv2.VideoWriter('video.avi', 0, 1, (width,height))\n",
    "\n",
    "    for image in images:\n",
    "        video.write(cv2.imread(os.path.join(img_dir, image)))\n",
    "\n",
    "    cv2.destroyAllWindows()\n",
    "    video.release()"
   ]
  }
 ],
 "metadata": {
  "kernelspec": {
   "display_name": "Python 3",
   "language": "python",
   "name": "python3"
  },
  "language_info": {
   "codemirror_mode": {
    "name": "ipython",
    "version": 3
   },
   "file_extension": ".py",
   "mimetype": "text/x-python",
   "name": "python",
   "nbconvert_exporter": "python",
   "pygments_lexer": "ipython3",
   "version": "3.7.5"
  }
 },
 "nbformat": 4,
 "nbformat_minor": 4
}
