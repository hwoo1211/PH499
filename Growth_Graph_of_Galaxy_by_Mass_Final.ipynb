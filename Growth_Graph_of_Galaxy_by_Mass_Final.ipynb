{
 "cells": [
  {
   "cell_type": "markdown",
   "metadata": {},
   "source": [
    "# Generating the Growth Graph of the Most Massive Galaxies"
   ]
  },
  {
   "cell_type": "markdown",
   "metadata": {},
   "source": [
    "In this document, we'll navigate the IllustrisTNG Project Database to identify the most massive galaxies in  the TNG100-1 simulation and generate the Growth Graphs.\n",
    "\n",
    "As shown in the document **Data Structure of IllustrisTNG Database**, the .png file of the merger tree is available. Let's navigate there. \n",
    "\n",
    "First, load all the required packages and important data:"
   ]
  },
  {
   "cell_type": "code",
   "execution_count": 1,
   "metadata": {},
   "outputs": [],
   "source": [
    "import requests                 # To use the helper function \"get\"\n",
    "import h5py                     # To read .hdf5 files in Python\n",
    "import matplotlib.pyplot as mpl # To plot using the data from .hdf5 fiels\n",
    "from skimage import io          # To work with images\n",
    "import numpy as np              # To calculate big numerical data\n",
    "import cv2                      # To create the video\n",
    "import os                       # To navigate working directories\n",
    "import copy\n",
    "\n",
    "baseUrl = 'http://www.tng-project.org/api/'               # URL to the API Root\n",
    "headers = {\"api-key\":\"your_key_here\"}                     # API Key required to access the database\n",
    "                                                          # Make sure to change this!"
   ]
  },
  {
   "cell_type": "markdown",
   "metadata": {},
   "source": [
    "We also need the helper function we used in the other document to naviage the API:"
   ]
  },
  {
   "cell_type": "code",
   "execution_count": 2,
   "metadata": {},
   "outputs": [],
   "source": [
    "def get(path, params=None): # This is provided by the IllustrisTNG Project\n",
    "    # make HTTP GET request to path\n",
    "    r = requests.get(path, params=params, headers=headers)\n",
    "\n",
    "    # raise exception if response code is not HTTP SUCCESS (200)\n",
    "    r.raise_for_status()\n",
    "\n",
    "    if r.headers['content-type'] == 'application/json':\n",
    "        return r.json() # parse json responses automatically\n",
    "\n",
    "    if 'content-disposition' in r.headers:\n",
    "        filename = r.headers['content-disposition'].split(\"filename=\")[1]\n",
    "        with open(filename, 'wb') as f:\n",
    "            f.write(r.content)\n",
    "        return filename # return the filename string\n",
    "\n",
    "    return r"
   ]
  },
  {
   "cell_type": "markdown",
   "metadata": {},
   "source": [
    "Since all the details on the navigation and data structure are already explained in the other document, we'll navigate straight to our point of interest, *Subhalo List* page at $z=0$."
   ]
  },
  {
   "cell_type": "code",
   "execution_count": 3,
   "metadata": {},
   "outputs": [],
   "source": [
    "root = get(baseUrl)                                   # Getting to API Root\n",
    "names = [sim['name'] for sim in root['simulations']]  # Creating list of simulations\n",
    "i = names.index('TNG100-1')                           # Finding where 'TNG100-1' is stored in the list\n",
    "sim = get(root['simulations'][i]['url'])              # Navigating to Simulation Details page\n",
    "snaps = get(sim['snapshots'])                         # Navigating to Snapshot List page\n",
    "snap = get(snaps[-1]['url'])                          # Naviagting to Snapshot Details page for z=0\n",
    "subs = get(snap['subhalos'],                          \n",
    "           {'limit':20, 'order_by':'-mass_stars'})    # Navigating to Subhalo List page for z=0,\n",
    "                                                      #     ordered in decreasing mass. "
   ]
  },
  {
   "cell_type": "markdown",
   "metadata": {},
   "source": [
    "Let's get a listing of the top 5 subhalos, in order of decreasing mass."
   ]
  },
  {
   "cell_type": "code",
   "execution_count": 4,
   "metadata": {},
   "outputs": [
    {
     "data": {
      "text/plain": [
       "[0, 31342, 17185, 69507, 83280]"
      ]
     },
     "execution_count": 4,
     "metadata": {},
     "output_type": "execute_result"
    }
   ],
   "source": [
    "ids = [subs['results'][i]['id'] for i in range(5) ]\n",
    "ids"
   ]
  },
  {
   "cell_type": "markdown",
   "metadata": {},
   "source": [
    "To make the organization easier, let's create a directory for these subhalo IDs."
   ]
  },
  {
   "cell_type": "code",
   "execution_count": 5,
   "metadata": {},
   "outputs": [],
   "source": [
    "parent_dir = '/Users/hwoo1211/Jupyter Notebook/Growth Graph/' # This is for Mac\n",
    "#parent_dir = 'D:\\Jupyter Notebook\\Growth Graph/'             # This is for Windows\n",
    "\n",
    "for id in ids:\n",
    "    path = os.path.join(parent_dir, str(id))\n",
    "    os.mkdir(path)"
   ]
  },
  {
   "cell_type": "markdown",
   "metadata": {},
   "source": [
    "Then, change the working directory to the first folder:"
   ]
  },
  {
   "cell_type": "code",
   "execution_count": 6,
   "metadata": {},
   "outputs": [
    {
     "data": {
      "text/plain": [
       "'/Users/hwoo1211/Jupyter Notebook/Growth Graph/0'"
      ]
     },
     "execution_count": 6,
     "metadata": {},
     "output_type": "execute_result"
    }
   ],
   "source": [
    "img_dir = parent_dir + '/' + str(ids[0])\n",
    "os.chdir(img_dir)\n",
    "os.getcwd()"
   ]
  },
  {
   "cell_type": "markdown",
   "metadata": {},
   "source": [
    "Now let's get the details on this specific subhalo:"
   ]
  },
  {
   "cell_type": "code",
   "execution_count": 7,
   "metadata": {},
   "outputs": [],
   "source": [
    "sub = get(subs['results'][0]['url'])"
   ]
  },
  {
   "cell_type": "markdown",
   "metadata": {},
   "source": [
    "And let's define couple more arrays..."
   ]
  },
  {
   "cell_type": "code",
   "execution_count": 8,
   "metadata": {},
   "outputs": [
    {
     "data": {
      "text/plain": [
       "{'snap': [],\n",
       " 'id': [],\n",
       " 'sfr': [],\n",
       " 'mass_gas': [],\n",
       " 'mass_stars': [],\n",
       " 'mass_dm': [],\n",
       " 'mass_bhs': []}"
      ]
     },
     "execution_count": 8,
     "metadata": {},
     "output_type": "execute_result"
    }
   ],
   "source": [
    "zvalues = []\n",
    "fields = ['snap', 'id', 'sfr', 'mass_gas', 'mass_stars', 'mass_dm', 'mass_bhs']\n",
    "r = {}\n",
    "for field in fields:\n",
    "    r[field] = []\n",
    "r"
   ]
  },
  {
   "cell_type": "markdown",
   "metadata": {},
   "source": [
    "And let's fill in the information for each field, by traveling the link provided by sublink progenitor key, like so:"
   ]
  },
  {
   "cell_type": "code",
   "execution_count": 9,
   "metadata": {
    "scrolled": true
   },
   "outputs": [],
   "source": [
    "while True:\n",
    "    for field in fields:\n",
    "        r[field].append(sub[field])\n",
    "    snapshot = get(sub['meta']['snapshot'])\n",
    "    zvalues.append(snapshot['redshift'])\n",
    "    if(sub['prog_sfid'] == -1):\n",
    "        break\n",
    "    sub = get(sub['related']['sublink_progenitor'])"
   ]
  },
  {
   "cell_type": "markdown",
   "metadata": {},
   "source": [
    "And add the new key-value set to the original dictionary:"
   ]
  },
  {
   "cell_type": "code",
   "execution_count": 10,
   "metadata": {},
   "outputs": [],
   "source": [
    "r.update({\"zvalues\" : zvalues})"
   ]
  },
  {
   "cell_type": "markdown",
   "metadata": {},
   "source": [
    "Now, let's define a function that will pick out the \"dips\" in the graph, i.e., the outlier values that will create a dip in the graph. "
   ]
  },
  {
   "cell_type": "code",
   "execution_count": 11,
   "metadata": {},
   "outputs": [],
   "source": [
    "def findDips(dataList, positionList):\n",
    "    masses = ['mass_gas', 'mass_stars', 'mass_dm', 'mass_bhs']\n",
    "    for mass in masses:\n",
    "        for i in range(len(dataList[mass]) - 1):\n",
    "            if(i == 0):\n",
    "                continue\n",
    "            elif(mass == 'mass_bhs'):\n",
    "                if(((dataList[mass][i] - dataList[mass][i+1]) > 0.3) and \n",
    "                    (positionList.count(dataList['snap'][i]) == 0)):\n",
    "                    positionList.append(dataList['snap'][i + 1])\n",
    "            elif(((dataList[mass][i + 1] - dataList[mass][i]) > 10) and \n",
    "                    (positionList.count(dataList['snap'][i]) == 0)):\n",
    "                positionList.append(dataList['snap'][i])"
   ]
  },
  {
   "cell_type": "markdown",
   "metadata": {},
   "source": [
    "And finally, let's define the subroutine to delete those outliers:"
   ]
  },
  {
   "cell_type": "code",
   "execution_count": 12,
   "metadata": {},
   "outputs": [],
   "source": [
    "position_list = []\n",
    "key = ['snap', 'id', 'sfr', 'mass_gas', 'mass_stars', 'mass_dm', 'mass_bhs', 'zvalues']\n",
    "while True:\n",
    "    position_list = []\n",
    "    index_list = []\n",
    "    findDips(r, position_list)\n",
    "    \n",
    "    i = 0\n",
    "    for j in position_list:\n",
    "        i = r['snap'].index(j)\n",
    "        for keys in key:\n",
    "           r[keys].pop(i)\n",
    "    if(len(position_list) == 0):\n",
    "        break"
   ]
  },
  {
   "cell_type": "markdown",
   "metadata": {},
   "source": [
    "Now, we are ready to graph. First, let's graph the four masses arragned by Snapshot Number:"
   ]
  },
  {
   "cell_type": "code",
   "execution_count": 13,
   "metadata": {},
   "outputs": [
    {
     "name": "stderr",
     "output_type": "stream",
     "text": [
      "/usr/local/lib/python3.7/site-packages/ipykernel_launcher.py:2: RuntimeWarning: divide by zero encountered in log10\n",
      "  \n"
     ]
    },
    {
     "data": {
      "image/png": "[encoded data removed]",
      "text/plain": [
       "<Figure size 432x288 with 1 Axes>"
      ]
     },
     "metadata": {
      "needs_background": "light"
     },
     "output_type": "display_data"
    }
   ],
   "source": [
    "for partType in ['gas', 'dm', 'stars', 'bhs']:\n",
    "    mass_logmsun = np.log10(np.array(r['mass_'+partType])*1e10/0.704)\n",
    "    mpl.plot(r['snap'], mass_logmsun, label=partType)\n",
    "    \n",
    "mpl.xlabel('Snapshot Number')\n",
    "mpl.ylabel('Mass [log $M_\\odot$]')\n",
    "mpl.legend(loc='lower right');\n",
    "\n",
    "\n",
    "mpl.savefig(('Masses_' + str(ids[0])+'_snapnum'),bbox_inches='tight')\n",
    "mpl.show()\n",
    "mpl.close()"
   ]
  },
  {
   "cell_type": "markdown",
   "metadata": {},
   "source": [
    "Then, let's graph the same values using redshifts: "
   ]
  },
  {
   "cell_type": "code",
   "execution_count": 14,
   "metadata": {},
   "outputs": [
    {
     "name": "stderr",
     "output_type": "stream",
     "text": [
      "/usr/local/lib/python3.7/site-packages/ipykernel_launcher.py:2: RuntimeWarning: divide by zero encountered in log10\n",
      "  \n"
     ]
    },
    {
     "data": {
      "image/png": "[encoded data removed]",
      "text/plain": [
       "<Figure size 432x288 with 1 Axes>"
      ]
     },
     "metadata": {
      "needs_background": "light"
     },
     "output_type": "display_data"
    }
   ],
   "source": [
    "for partType in ['gas', 'dm', 'stars', 'bhs']:\n",
    "    mass_logmsun = np.log10(np.array(r['mass_'+partType])*1e10/0.704)\n",
    "    mpl.plot(r['zvalues'], mass_logmsun, label=partType)\n",
    "    \n",
    "mpl.xlabel('Redshift')\n",
    "mpl.ylabel('Mass [log $M_\\odot$]')\n",
    "mpl.legend(loc='upper right');\n",
    "\n",
    "\n",
    "mpl.savefig(('Masses_' + str(ids[0])+'_znum'),bbox_inches='tight')\n",
    "mpl.show()\n",
    "mpl.close()"
   ]
  },
  {
   "cell_type": "markdown",
   "metadata": {},
   "source": [
    "Then, let's plot the dark matter mass and masses of stars, along with the star formation rate. "
   ]
  },
  {
   "cell_type": "code",
   "execution_count": 15,
   "metadata": {},
   "outputs": [
    {
     "name": "stderr",
     "output_type": "stream",
     "text": [
      "/usr/local/lib/python3.7/site-packages/ipykernel_launcher.py:7: RuntimeWarning: divide by zero encountered in log10\n",
      "  import sys\n"
     ]
    },
    {
     "data": {
      "image/png": "[encoded data removed]",
      "text/plain": [
       "<Figure size 432x288 with 2 Axes>"
      ]
     },
     "metadata": {
      "needs_background": "light"
     },
     "output_type": "display_data"
    }
   ],
   "source": [
    "mpl.close()\n",
    "fig, ax1 = mpl.subplots()\n",
    "ax1.set_xlabel('Snapshot Number')\n",
    "ax1.set_ylabel('Mass [log $M_\\odot$]')\n",
    "#for partType in ['gas', 'dm', 'stars', 'bhs']:\n",
    "for partType in ['dm', 'stars']:\n",
    "    mass_logmsun = np.log10(np.array(r['mass_'+partType])*1e10/0.704)\n",
    "    ax1.plot(r['snap'], mass_logmsun, label=partType)\n",
    "ax1.tick_params(axis='y')\n",
    "\n",
    "ax2 = ax1.twinx()\n",
    "ax2.set_ylabel('Star Formation Rate, [yr$^{-1}$]')\n",
    "\n",
    "sfr = np.log10(np.array(r['sfr']))\n",
    "\n",
    "ax2.plot(r['snap'], sfr, label='sfr', color = 'tab:purple')\n",
    "ax2.tick_params(axis='y')\n",
    "\n",
    "fig.tight_layout()\n",
    "ax1.legend(loc='upper left');\n",
    "ax2.legend(loc='lower right');\n",
    "\n",
    "mpl.savefig(('Masses_' + str(ids[0])+'_withsfr_snapnum'),bbox_inches='tight')\n",
    "mpl.show()\n",
    "mpl.close()"
   ]
  },
  {
   "cell_type": "code",
   "execution_count": 16,
   "metadata": {},
   "outputs": [
    {
     "name": "stderr",
     "output_type": "stream",
     "text": [
      "/usr/local/lib/python3.7/site-packages/ipykernel_launcher.py:7: RuntimeWarning: divide by zero encountered in log10\n",
      "  import sys\n"
     ]
    },
    {
     "data": {
      "image/png": "[encoded data removed]",
      "text/plain": [
       "<Figure size 432x288 with 2 Axes>"
      ]
     },
     "metadata": {
      "needs_background": "light"
     },
     "output_type": "display_data"
    }
   ],
   "source": [
    "mpl.close()\n",
    "fig, ax1 = mpl.subplots()\n",
    "ax1.set_xlabel('Redshift')\n",
    "ax1.set_ylabel('Mass [log $M_\\odot$]')\n",
    "#for partType in ['gas', 'dm', 'stars', 'bhs']:\n",
    "for partType in ['dm', 'stars']:\n",
    "    mass_logmsun = np.log10(np.array(r['mass_'+partType])*1e10/0.704)\n",
    "    ax1.plot(r['zvalues'], mass_logmsun, label=partType)\n",
    "ax1.tick_params(axis='y')\n",
    "\n",
    "ax2 = ax1.twinx()\n",
    "ax2.set_ylabel('Star Formation Rate, [yr$^{-1}$]')\n",
    "\n",
    "sfr = np.log10(np.array(r['sfr']))\n",
    "\n",
    "ax2.plot(r['zvalues'], sfr, label='sfr', color = 'tab:purple')\n",
    "ax2.tick_params(axis='y')\n",
    "\n",
    "fig.tight_layout()\n",
    "ax1.legend(loc='upper right');\n",
    "ax2.legend(loc='right');\n",
    "\n",
    "mpl.savefig(('Masses_' + str(ids[0])+'_withsfr_znum'),bbox_inches='tight')\n",
    "mpl.show()\n",
    "mpl.close()"
   ]
  },
  {
   "cell_type": "markdown",
   "metadata": {},
   "source": [
    "Now let's repeat this for the other five massive galaxies."
   ]
  },
  {
   "cell_type": "code",
   "execution_count": null,
   "metadata": {},
   "outputs": [],
   "source": [
    "for i in range(4):\n",
    "    img_dir = parent_dir + '/' + str(ids[i+1])\n",
    "    os.chdir(img_dir)\n",
    "\n",
    "    sub = get(subs['results'][i+1]['url'])\n",
    "\n",
    "    r.clear()\n",
    "    zvalues = []\n",
    "    fields = ['snap', 'id', 'sfr', 'mass_gas', 'mass_stars', 'mass_dm', 'mass_bhs']\n",
    "    r = {}\n",
    "    for field in fields:\n",
    "        r[field] = []\n",
    "    while True:\n",
    "        for field in fields:\n",
    "            r[field].append(sub[field])\n",
    "        snapshot = get(sub['meta']['snapshot'])\n",
    "        zvalues.append(snapshot['redshift'])\n",
    "        if(sub['prog_sfid'] == -1):\n",
    "            break\n",
    "        sub = get(sub['related']['sublink_progenitor'])\n",
    "\n",
    "    r.update({\"zvalues\" : zvalues})\n",
    "\n",
    "    position_list = []\n",
    "    index_list = []\n",
    "    key = ['snap', 'id', 'sfr', 'mass_gas', 'mass_stars', 'mass_dm', 'mass_bhs', 'zvalues']\n",
    "    while True:\n",
    "        position_list = []\n",
    "        index_list = []\n",
    "        findDips(r, position_list)\n",
    "\n",
    "        k = 0\n",
    "        for j in position_list:\n",
    "            k = r['snap'].index(j)\n",
    "            for keys in key:\n",
    "               r[keys].pop(k)\n",
    "        if(len(position_list) == 0):\n",
    "            break\n",
    "\n",
    "    # Masses by Snapshot Number\n",
    "    for partType in ['gas', 'dm', 'stars', 'bhs']:\n",
    "        mass_logmsun = np.log10(np.array(r['mass_'+partType])*1e10/0.704)\n",
    "        mpl.plot(r['snap'], mass_logmsun, label=partType)\n",
    "    \n",
    "    mpl.xlabel('Snapshot Number')\n",
    "    mpl.ylabel('Mass [log $M_\\odot$]')\n",
    "    mpl.legend(loc='lower right');\n",
    "\n",
    "\n",
    "    mpl.savefig(('Masses_' + str(ids[i+1])+'_snapnum'),bbox_inches='tight')\n",
    "    mpl.show()\n",
    "    mpl.close()\n",
    "    \n",
    "    # Masses by Redshift\n",
    "    for partType in ['gas', 'dm', 'stars', 'bhs']:\n",
    "        mass_logmsun = np.log10(np.array(r['mass_'+partType])*1e10/0.704)\n",
    "        mpl.plot(r['zvalues'], mass_logmsun, label=partType)\n",
    "\n",
    "    mpl.xlabel('Redshift')\n",
    "    mpl.ylabel('Mass [log $M_\\odot$]')\n",
    "    mpl.legend(loc='upper right');\n",
    "\n",
    "\n",
    "    mpl.savefig(('Masses_' + str(ids[i+1])+'_znum'),bbox_inches='tight')\n",
    "    mpl.show()\n",
    "    mpl.close()\n",
    "    \n",
    "    # Masses + sfr by Snapshot Number\n",
    "    \n",
    "    mpl.close()\n",
    "    fig, ax1 = mpl.subplots()\n",
    "    ax1.set_xlabel('Snapshot Number')\n",
    "    ax1.set_ylabel('Mass [log $M_\\odot$]')\n",
    "    #for partType in ['gas', 'dm', 'stars', 'bhs']:\n",
    "    for partType in ['dm', 'stars']:\n",
    "        mass_logmsun = np.log10(np.array(r['mass_'+partType])*1e10/0.704)\n",
    "        ax1.plot(r['snap'], mass_logmsun, label=partType)\n",
    "    ax1.tick_params(axis='y')\n",
    "\n",
    "    ax2 = ax1.twinx()\n",
    "    ax2.set_ylabel('Star Formation Rate, [yr$^{-1}$]')\n",
    "\n",
    "    sfr = np.log10(np.array(r['sfr']))\n",
    "\n",
    "    ax2.plot(r['snap'], sfr, label='sfr', color = 'tab:purple')\n",
    "    ax2.tick_params(axis='y')\n",
    "\n",
    "    fig.tight_layout()\n",
    "    ax1.legend(loc='upper left');\n",
    "    ax2.legend(loc='lower right');\n",
    "\n",
    "    mpl.savefig(('Masses_' + str(ids[i+1])+'_withsfr_snapnum'),bbox_inches='tight')\n",
    "    mpl.show()\n",
    "    mpl.close()\n",
    "    \n",
    "    # Masses + sfr by Redshift\n",
    "    \n",
    "    mpl.close()\n",
    "    fig, ax1 = mpl.subplots()\n",
    "    ax1.set_xlabel('Redshift')\n",
    "    ax1.set_ylabel('Mass [log $M_\\odot$]')\n",
    "    #for partType in ['gas', 'dm', 'stars', 'bhs']:\n",
    "    for partType in ['dm', 'stars']:\n",
    "        mass_logmsun = np.log10(np.array(r['mass_'+partType])*1e10/0.704)\n",
    "        ax1.plot(r['zvalues'], mass_logmsun, label=partType)\n",
    "    ax1.tick_params(axis='y')\n",
    "\n",
    "    ax2 = ax1.twinx()\n",
    "    ax2.set_ylabel('Star Formation Rate, [yr$^{-1}$]')\n",
    "\n",
    "    sfr = np.log10(np.array(r['sfr']))\n",
    "\n",
    "    ax2.plot(r['zvalues'], sfr, label='sfr', color = 'tab:purple')\n",
    "    ax2.tick_params(axis='y')\n",
    "\n",
    "    fig.tight_layout()\n",
    "    ax1.legend(loc='upper right');\n",
    "    ax2.legend(loc='right');\n",
    "\n",
    "    mpl.savefig(('Masses_' + str(ids[i+1])+'_withsfr_znum'),bbox_inches='tight')\n",
    "    mpl.show()\n",
    "    mpl.close()"
   ]
  }
 ],
 "metadata": {
  "kernelspec": {
   "display_name": "Python 3",
   "language": "python",
   "name": "python3"
  },
  "language_info": {
   "codemirror_mode": {
    "name": "ipython",
    "version": 3
   },
   "file_extension": ".py",
   "mimetype": "text/x-python",
   "name": "python",
   "nbconvert_exporter": "python",
   "pygments_lexer": "ipython3",
   "version": "3.7.5"
  }
 },
 "nbformat": 4,
 "nbformat_minor": 4
}
